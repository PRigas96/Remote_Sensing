{
 "cells": [
  {
   "cell_type": "markdown",
   "id": "599e1dee",
   "metadata": {},
   "source": [
    "# Remote-Sensing Project"
   ]
  },
  {
   "cell_type": "markdown",
   "id": "f5ea2de6",
   "metadata": {},
   "source": [
    "## Import Libraries\n",
    "\n",
    "aaaaaaaaaaaaaaa<cite data-cite=\"perez2011python\">(Granger, 2013)</cite>\n",
    "    \n"
   ]
  },
  {
   "cell_type": "code",
   "execution_count": 1,
   "id": "60c15906",
   "metadata": {},
   "outputs": [
    {
     "ename": "ModuleNotFoundError",
     "evalue": "No module named 'fcntl'",
     "output_type": "error",
     "traceback": [
      "\u001b[1;31m---------------------------------------------------------------------------\u001b[0m",
      "\u001b[1;31mModuleNotFoundError\u001b[0m                       Traceback (most recent call last)",
      "Input \u001b[1;32mIn [1]\u001b[0m, in \u001b[0;36m<cell line: 9>\u001b[1;34m()\u001b[0m\n\u001b[0;32m      7\u001b[0m \u001b[38;5;28;01mimport\u001b[39;00m \u001b[38;5;21;01mgeopandas\u001b[39;00m \u001b[38;5;28;01mas\u001b[39;00m \u001b[38;5;21;01mgpd\u001b[39;00m\n\u001b[0;32m      8\u001b[0m \u001b[38;5;66;03m# earth engine\u001b[39;00m\n\u001b[1;32m----> 9\u001b[0m \u001b[38;5;28;01mimport\u001b[39;00m \u001b[38;5;21;01mee\u001b[39;00m\n\u001b[0;32m     11\u001b[0m \u001b[38;5;66;03m# allow images to display in the notebook\u001b[39;00m\n\u001b[0;32m     12\u001b[0m \u001b[38;5;28;01mfrom\u001b[39;00m \u001b[38;5;21;01mIPython\u001b[39;00m\u001b[38;5;21;01m.\u001b[39;00m\u001b[38;5;21;01mdisplay\u001b[39;00m \u001b[38;5;28;01mimport\u001b[39;00m Image\n",
      "File \u001b[1;32m~\\AppData\\Local\\Programs\\Python\\Python310\\lib\\site-packages\\ee\\__init__.py:1\u001b[0m, in \u001b[0;36m<module>\u001b[1;34m\u001b[0m\n\u001b[1;32m----> 1\u001b[0m \u001b[38;5;28;01mfrom\u001b[39;00m \u001b[38;5;21;01m.\u001b[39;00m\u001b[38;5;21;01mmain\u001b[39;00m \u001b[38;5;28;01mimport\u001b[39;00m main\n",
      "File \u001b[1;32m~\\AppData\\Local\\Programs\\Python\\Python310\\lib\\site-packages\\ee\\main.py:5\u001b[0m, in \u001b[0;36m<module>\u001b[1;34m\u001b[0m\n\u001b[0;32m      3\u001b[0m \u001b[38;5;28;01mimport\u001b[39;00m \u001b[38;5;21;01msubprocess\u001b[39;00m\n\u001b[0;32m      4\u001b[0m \u001b[38;5;28;01mimport\u001b[39;00m \u001b[38;5;21;01msys\u001b[39;00m\n\u001b[1;32m----> 5\u001b[0m \u001b[38;5;28;01mimport\u001b[39;00m \u001b[38;5;21;01mblessings\u001b[39;00m\n\u001b[0;32m      6\u001b[0m \u001b[38;5;28;01mimport\u001b[39;00m \u001b[38;5;21;01mre\u001b[39;00m\n\u001b[0;32m      7\u001b[0m \u001b[38;5;28;01mimport\u001b[39;00m \u001b[38;5;21;01mos\u001b[39;00m\n",
      "File \u001b[1;32m~\\AppData\\Local\\Programs\\Python\\Python310\\lib\\site-packages\\blessings\\__init__.py:7\u001b[0m, in \u001b[0;36m<module>\u001b[1;34m\u001b[0m\n\u001b[0;32m      5\u001b[0m \u001b[38;5;28;01mimport\u001b[39;00m \u001b[38;5;21;01mcurses\u001b[39;00m\n\u001b[0;32m      6\u001b[0m \u001b[38;5;28;01mfrom\u001b[39;00m \u001b[38;5;21;01mcurses\u001b[39;00m \u001b[38;5;28;01mimport\u001b[39;00m setupterm, tigetnum, tigetstr, tparm\n\u001b[1;32m----> 7\u001b[0m \u001b[38;5;28;01mfrom\u001b[39;00m \u001b[38;5;21;01mfcntl\u001b[39;00m \u001b[38;5;28;01mimport\u001b[39;00m ioctl\n\u001b[0;32m      8\u001b[0m \u001b[38;5;28;01mfrom\u001b[39;00m \u001b[38;5;21;01msix\u001b[39;00m \u001b[38;5;28;01mimport\u001b[39;00m text_type, string_types\n\u001b[0;32m     10\u001b[0m \u001b[38;5;28;01mtry\u001b[39;00m:\n",
      "\u001b[1;31mModuleNotFoundError\u001b[0m: No module named 'fcntl'"
     ]
    }
   ],
   "source": [
    "# Project RemoteSensing\n",
    "# first lets insert the libraries\n",
    "# We get the data through the google earth engine\n",
    "# Which is a cloud that has all available images Landsat\n",
    "# Basic libaries\n",
    "import pandas as pd\n",
    "import geopandas as gpd\n",
    "# earth engine\n",
    "import ee\n",
    "\n",
    "# allow images to display in the notebook\n",
    "from IPython.display import Image\n",
    "\n",
    "# next we need to authenticate Earth Engine\n",
    "ee.Authenticate()\n",
    "\n",
    "# Initialize the library\n",
    "ee.Initialize()\n",
    "\n"
   ]
  },
  {
   "cell_type": "markdown",
   "id": "eb0fcb5b",
   "metadata": {},
   "source": [
    "## Define filters"
   ]
  },
  {
   "cell_type": "code",
   "execution_count": null,
   "id": "87480455",
   "metadata": {},
   "outputs": [],
   "source": [
    "# coords of Chalkidiki fire\n",
    "lat = 40.116642\n",
    "lon = 23.949377\n",
    "\n",
    "# point of interest(poi) as an ee.Geometry (with lat and lot)\n",
    "poi = ee.Geometry.Point(lon,lat)\n",
    "\n",
    "# start date of range to filter at\n",
    "# (landsat is available every 8 cal dates)\n",
    "# not a good image though every 8 days, means\n",
    "# we need more data=bigger date span\n",
    "start_date = '2018-06-01'\n",
    "\n",
    "# end date to filter at\n",
    "end_date = '2018-12-01'"
   ]
  },
  {
   "cell_type": "markdown",
   "id": "10f8b2bb",
   "metadata": {},
   "source": [
    "## Get Landsat 8 Data"
   ]
  },
  {
   "cell_type": "code",
   "execution_count": null,
   "id": "e47fb616",
   "metadata": {},
   "outputs": [],
   "source": [
    "# get the landsat8-satellite Data\n",
    "# Landsat has a lot of info\n",
    "landsat = ee.ImageCollection(\"LANDSAT/LC08/C02/T1_L2\")\\\n",
    "    `        .filterBounds(poi)\\\n",
    "            .filterDate(start_date,end_date)"
   ]
  },
  {
   "cell_type": "code",
   "execution_count": null,
   "id": "dd8d256c",
   "metadata": {},
   "outputs": [],
   "source": [
    "# how many images did we actually get?\n",
    "# adgust the time span\n",
    "print('Total number:', landsat.size().getInfo())"
   ]
  },
  {
   "cell_type": "code",
   "execution_count": null,
   "id": "dbc323aa",
   "metadata": {},
   "outputs": [],
   "source": [
    "# information about the first image in our collection\n",
    "# when was it taken \n",
    "landsat.first().getInfo()"
   ]
  },
  {
   "cell_type": "code",
   "execution_count": null,
   "id": "9e3c6871",
   "metadata": {},
   "outputs": [],
   "source": [
    "# lets get the cloud cover first\n",
    "landsat.first().get('CLOUD_COVER').getInfo()"
   ]
  },
  {
   "cell_type": "code",
   "execution_count": null,
   "id": "d12edaf4",
   "metadata": {},
   "outputs": [],
   "source": [
    "# lets see when it was acquired\n",
    "landsat.first().get('DATE_ACQUIRED').getInfo()"
   ]
  },
  {
   "cell_type": "code",
   "execution_count": null,
   "id": "88a59cfc",
   "metadata": {},
   "outputs": [],
   "source": [
    "# different wavelengths are different data\n",
    "# lets see the bands we got\n",
    "landsat.first().bandNames().getInfo()"
   ]
  },
  {
   "cell_type": "code",
   "execution_count": null,
   "id": "8358c7d8",
   "metadata": {},
   "outputs": [],
   "source": [
    "# bring the images and list them so we can loop and output them\n",
    "landsat_list = landsat.toList(landsat.size())"
   ]
  },
  {
   "cell_type": "markdown",
   "id": "aa627c46",
   "metadata": {},
   "source": [
    "## Display satellite image"
   ]
  },
  {
   "cell_type": "code",
   "execution_count": null,
   "id": "5aa821f4",
   "metadata": {},
   "outputs": [],
   "source": [
    "# set parameters for images(RGB)\n",
    "parameters = { 'min':7000, 'max':18000, 'dimensions':800,\n",
    "                 'bands':['SR_B2','SR_B3','SR_B4'] # RGB colours\n",
    "             }"
   ]
  },
  {
   "cell_type": "code",
   "execution_count": null,
   "id": "b211c70c",
   "metadata": {
    "scrolled": false
   },
   "outputs": [],
   "source": [
    "# create data\n",
    "data = []\n",
    "\n",
    "# loop and display images\n",
    "for i in range(landsat.size().getInfo()):\n",
    "    \n",
    "    # 1. When was it taken\n",
    "    date =  ee.Image(landsat_list.get(i)).get('DATE_ACQUIRED').getInfo()\n",
    "    \n",
    "    # 2. What the cloud cover is\n",
    "    cloud_cover = ee.Image(landsat_list.get(i)).get('CLOUD_COVER').getInfo()\n",
    "    \n",
    "    # 3. Print the image label\n",
    "    print('Image #',i,date,'Cloud cover:',cloud_cover)\n",
    "    \n",
    "    # 4. Display the image\n",
    "    display(Image(url = ee.Image(landsat_list.get(i)).getThumbUrl(parameters)))\n",
    "    \n",
    "    # 5. List data\n",
    "    data_ = [i, date, cloud_cover]\n",
    "    \n",
    "    # 6. Append\n",
    "    data.append(data_)\n",
    "    \n",
    "    \n",
    "# create pandas dataframe(like excel)\n",
    "p_df = pd.DataFrame(data, columns = ['Image #', 'Date', 'Cloud Cover'])"
   ]
  },
  {
   "cell_type": "code",
   "execution_count": null,
   "id": "edccd25e",
   "metadata": {},
   "outputs": [],
   "source": [
    "# our data in table\n",
    "p_df"
   ]
  },
  {
   "cell_type": "markdown",
   "id": "2433a2f9",
   "metadata": {},
   "source": [
    "##  Choose Images"
   ]
  },
  {
   "cell_type": "code",
   "execution_count": null,
   "id": "14a27760",
   "metadata": {},
   "outputs": [],
   "source": [
    "# lets pick a list of images\n",
    "# that we want to search further\n",
    "landsat_sequence = [5,7,9]"
   ]
  },
  {
   "cell_type": "code",
   "execution_count": null,
   "id": "3e849b87",
   "metadata": {},
   "outputs": [],
   "source": [
    "# Define the region by the poi\n",
    "# radius is chosen\n",
    "roi = poi.buffer(10000)"
   ]
  },
  {
   "cell_type": "code",
   "execution_count": null,
   "id": "a3fe8a77",
   "metadata": {},
   "outputs": [],
   "source": [
    "# set parameters for images(RGB)\n",
    "parameters = { 'min':7000, 'max':18000, 'dimensions':800,\n",
    "                 'bands':['SR_B2','SR_B3','SR_B4'], # RGB colours\n",
    "                 'region':roi\n",
    "             }"
   ]
  },
  {
   "cell_type": "code",
   "execution_count": null,
   "id": "a1702fd8",
   "metadata": {
    "scrolled": true
   },
   "outputs": [],
   "source": [
    "for i in landsat_sequence:\n",
    "    \n",
    "    # 1. Time\n",
    "    date =  ee.Image(landsat_list.get(i)).get('DATE_ACQUIRED').getInfo()\n",
    "    \n",
    "    # 2. Cloud cover \n",
    "    cloud_cover = ee.Image(landsat_list.get(i)).get('CLOUD_COVER').getInfo()\n",
    "    \n",
    "    # 3. Print the image label\n",
    "    print('Image #', i, date,'Cloud cover', cloud_cover)\n",
    "    \n",
    "    # 4. Display the image\n",
    "    display(Image(url = ee.Image(landsat_list.get(i)).getThumbUrl(parameters)))\n"
   ]
  },
  {
   "cell_type": "markdown",
   "id": "1e967f96",
   "metadata": {},
   "source": [
    "## Normalized Difference Vegetation Index\n",
    "cite this <cite data-cite=\"Kaimaris2014RS\"></cite>"
   ]
  },
  {
   "cell_type": "code",
   "execution_count": null,
   "id": "3d4fa287",
   "metadata": {},
   "outputs": [],
   "source": [
    "# ndvi parameters: red is low, green is high vegetation values\n",
    "palette = ['red', 'yellow', 'green']\n",
    "\n",
    "ndvi_parameters = {'min': 0, # red = 0\n",
    "                   'max': 0.4, # green >=0.4\n",
    "                   'dimensions': 512,\n",
    "                   'palette': palette,\n",
    "                   'region': roi}"
   ]
  },
  {
   "cell_type": "code",
   "execution_count": null,
   "id": "e8d334f1",
   "metadata": {},
   "outputs": [],
   "source": [
    "for i in landsat_sequence:\n",
    "    \n",
    "    # 1. Time\n",
    "    date = ee.Image(landsat_list.get(i)).get('DATE_ACQUIRED').getInfo()\n",
    "    \n",
    "    # 2. Cloud cover \n",
    "    cloud_cover = ee.Image(landsat_list.get(i)).get('CLOUD_COVER').getInfo()\n",
    "    \n",
    "    # 3. Print the image label\n",
    "    print('Image #', i, date,'Cloud cover', cloud_cover)\n",
    "    \n",
    "    # 4. Display the image\n",
    "    display(Image(url=ee.Image(landsat_list.get(i)).normalizedDifference(['SR_B5', 'SR_B4']).getThumbUrl(ndvi_parameters)))"
   ]
  },
  {
   "cell_type": "markdown",
   "id": "30102a6b",
   "metadata": {},
   "source": [
    "## Folium\n",
    "Visualising NDVI version of image in interactive mapping environment"
   ]
  },
  {
   "cell_type": "code",
   "execution_count": null,
   "id": "a78ba6b5",
   "metadata": {},
   "outputs": [],
   "source": [
    "# folium map\n",
    "import folium\n",
    "# Create a javascript leaflet map\n",
    "m = folium.Map(location=[lat,lon],zoom_start=13)\n",
    "m"
   ]
  },
  {
   "cell_type": "code",
   "execution_count": null,
   "id": "8dabb6a9",
   "metadata": {},
   "outputs": [],
   "source": [
    "# Google function that allows ee layers on folium\n",
    "def add_ee_layer(self, ee_image_object, vis_params, name):\n",
    "    \"\"\"Adds a method for displaying Earth Engine image tiles to folium map.\"\"\"\n",
    "    map_id_dict = ee.Image(ee_image_object).getMapId(vis_params)\n",
    "    folium.raster_layers.TileLayer(\n",
    "        tiles=map_id_dict['tile_fetcher'].url_format,\n",
    "        attr='Map Data &copy; <a href=\"https://earthengine.google.com/\">Google Earth Engine</a>',\n",
    "        name=name,\n",
    "        overlay=True,\n",
    "        control=True\n",
    "    ).add_to(self)\n",
    "\n",
    "# Add Earth Engine drawing method to folium\n",
    "folium.Map.add_ee_layer = add_ee_layer"
   ]
  },
  {
   "cell_type": "code",
   "execution_count": null,
   "id": "9565e976",
   "metadata": {
    "scrolled": true
   },
   "outputs": [],
   "source": [
    "# Create a folium map\n",
    "int_map = folium.Map(location=[lat, lon], zoom_start=13)\n",
    "\n",
    "# Add a layer for each satellite image of interest (before, during and after)\n",
    "for i in landsat_sequence:\n",
    "\n",
    "    # when was this image taken?\n",
    "    date = ee.Image(landsat_list.get(i)).get('DATE_ACQUIRED').getInfo()\n",
    "\n",
    "    int_map.add_ee_layer(ee.Image(landsat_list.get(i)).normalizedDifference(['SR_B5', 'SR_B4']), \n",
    "                        ndvi_parameters, \n",
    "                        name=date)\n",
    "    \n",
    "# Add a layer control panel to the map\n",
    "folium.LayerControl(collapsed = False).add_to(int_map)\n",
    "\n",
    "# Add lon lat coords user defined\n",
    "int_map.add_child(folium.LatLngPopup())\n",
    "\n",
    "folium.Circle(\n",
    "    radius=250,\n",
    "    location=[40.1244, 23.9380],\n",
    "    color=\"purple\",\n",
    "    fill=False,\n",
    ").add_to(int_map)\n",
    "\n",
    "folium.Marker(\n",
    "    location=[40.1244, 23.9380],\n",
    "    popup=\"Possible start of fire due to ΔΕΗ column falling\",\n",
    "    icon=folium.Icon(color=\"purple\", icon=\"info-sign\"),\n",
    ").add_to(int_map)\n",
    "\n",
    "folium.Circle(\n",
    "    radius=500,\n",
    "    location=[40.097474, 23.977585],\n",
    "    popup=\"Sarti\",\n",
    "    color=\"blue\",\n",
    "    fill=False,\n",
    ").add_to(int_map)\n",
    "\n",
    "folium.Marker(\n",
    "    location=[40.097474, 23.977585],\n",
    "    popup=\"Sarti\",\n",
    "    icon=folium.Icon(color=\"blue\", icon=\"info-sign\"),\n",
    ").add_to(int_map)\n",
    "\n",
    "folium.Marker(\n",
    "    location=[40.0984, 23.9428],\n",
    "    popup=\"fiery front\",\n",
    "    icon=folium.Icon(color=\"green\", icon=\"stop\"),\n",
    ").add_to(int_map)\n",
    "\n",
    "folium.Marker(\n",
    "    location=[40.1030, 23.9572],\n",
    "    popup=\"fiery front\",\n",
    "    icon=folium.Icon(color=\"green\", icon=\"stop\"),\n",
    ").add_to(int_map)\n",
    "\n",
    "folium.Marker(\n",
    "    location=[40.1041, 23.9702],\n",
    "    popup=\"fiery front\",\n",
    "    icon=folium.Icon(color=\"green\", icon=\"stop\"),\n",
    ").add_to(int_map)\n",
    "\n",
    "folium.Marker(\n",
    "    location=[40.1054, 23.9804],\n",
    "    popup=\"fiery front\",\n",
    "    icon=folium.Icon(color=\"green\", icon=\"stop\"),\n",
    ").add_to(int_map)\n",
    "\n",
    "# Display the map.\n",
    "display(int_map)"
   ]
  },
  {
   "cell_type": "code",
   "execution_count": null,
   "id": "fe2a89f4",
   "metadata": {},
   "outputs": [],
   "source": [
    "int_map.save('Chalkidiki_fire.html')"
   ]
  },
  {
   "cell_type": "markdown",
   "id": "f59afd58",
   "metadata": {},
   "source": [
    "## Bibliography\n",
    "[1] geagerageargearg \\\n",
    "[2] aegaergerg \\\n",
    "[3] aegaergaergaergae \\\n",
    "[4] eargaergerg \\\n",
    "\n"
   ]
  },
  {
   "cell_type": "markdown",
   "id": "19a13163",
   "metadata": {},
   "source": [
    "---\n",
    "title: \"Sample Document\"\n",
    "output: pdf_document\n",
    "bibliography: bibliography.bib\n",
    "csl: biomed-central.csl\n",
    "---\n",
    "title: \"Sample Document\"\n",
    "output: pdf_document\n",
    "bibliography: bibliography.bib\n",
    "csl: biomed-central.csl\n",
    "---\n"
   ]
  },
  {
   "cell_type": "code",
   "execution_count": null,
   "id": "fc4156ad",
   "metadata": {},
   "outputs": [],
   "source": [
    " #automatic document conversion to markdown and then to word\n",
    " #first convert the ipython notebook paper.ipynb to markdown\n",
    " os.system(\"jupyter nbconvert --to markdown RSmain.ipynb\")\n",
    " #next convert markdown to ms word\n",
    " conversion <- paste0(\"pandoc -s RSmain.md -t docx -o RSmain.docx\",\n",
    "                \" --citeproc\",\n",
    "                \" --bibliography=Ref.bib\",\n",
    "                \" --csl=ieee.csl\")\n",
    " os.system(conversion)"
   ]
  },
  {
   "cell_type": "code",
   "execution_count": null,
   "id": "ea1ddea0",
   "metadata": {},
   "outputs": [],
   "source": []
  }
 ],
 "metadata": {
  "kernelspec": {
   "display_name": "Python 3 (ipykernel)",
   "language": "python",
   "name": "python3"
  },
  "language_info": {
   "codemirror_mode": {
    "name": "ipython",
    "version": 3
   },
   "file_extension": ".py",
   "mimetype": "text/x-python",
   "name": "python",
   "nbconvert_exporter": "python",
   "pygments_lexer": "ipython3",
   "version": "3.10.0"
  }
 },
 "nbformat": 4,
 "nbformat_minor": 5
}
